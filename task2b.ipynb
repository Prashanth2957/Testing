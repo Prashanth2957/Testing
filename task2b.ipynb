{
 "cells": [
  {
   "cell_type": "code",
   "execution_count": 2,
   "id": "b6d5b60f-97a9-48cb-a5dc-7508466c0788",
   "metadata": {},
   "outputs": [],
   "source": [
    "#fisher score"
   ]
  },
  {
   "cell_type": "code",
   "execution_count": 3,
   "id": "2933d24e-4b6a-4478-a190-74abd3d8600b",
   "metadata": {},
   "outputs": [
    {
     "name": "stdout",
     "output_type": "stream",
     "text": [
      "Feature Ranking based on Fisher Score:\n",
      "1. s5 - Score: 1.9188\n",
      "2. bmi - Score: 1.8980\n",
      "3. s3 - Score: 1.5132\n",
      "4. bp - Score: 1.4514\n",
      "5. s4 - Score: 1.4356\n",
      "6. s6 - Score: 1.1100\n",
      "7. age - Score: 1.0166\n",
      "8. sex - Score: 1.0065\n",
      "9. s1 - Score: 0.8609\n",
      "10. s2 - Score: 0.8321\n"
     ]
    }
   ],
   "source": [
    "import numpy as np\n",
    "import pandas as pd\n",
    "from sklearn.datasets import load_diabetes\n",
    "from sklearn.preprocessing import StandardScaler\n",
    "\n",
    "# Load dataset (PIMA Diabetes dataset can be used similarly)\n",
    "diabetes = load_diabetes(as_frame=True)\n",
    "df = diabetes.frame\n",
    "\n",
    "# Separate features and target\n",
    "X = df.drop(columns=['target'])  # Features\n",
    "y = df['target']                # Labels\n",
    "\n",
    "# Standardize features (important for Fisher Score)\n",
    "scaler = StandardScaler()\n",
    "X_scaled = scaler.fit_transform(X)\n",
    "\n",
    "# Compute Fisher Score for each feature\n",
    "def fisher_score(X, y):\n",
    "    classes = np.unique(y)  # Get unique class labels\n",
    "    scores = []\n",
    "    \n",
    "    for i in range(X.shape[1]):  # Loop over features\n",
    "        overall_mean = np.mean(X[:, i])  # Mean of feature across all data\n",
    "        numerator, denominator = 0, 0\n",
    "        \n",
    "        for c in classes:\n",
    "            class_samples = X[y == c, i]  # Get samples for class c\n",
    "            class_mean = np.mean(class_samples)\n",
    "            class_var = np.var(class_samples)\n",
    "            class_count = len(class_samples)\n",
    "            \n",
    "            numerator += class_count * (class_mean - overall_mean) ** 2\n",
    "            denominator += class_count * class_var\n",
    "        \n",
    "        score = numerator / (denominator + 1e-6)  # Avoid division by zero\n",
    "        scores.append(score)\n",
    "    \n",
    "    return np.array(scores)\n",
    "\n",
    "# Compute Fisher Scores\n",
    "fisher_scores = fisher_score(X_scaled, y)\n",
    "\n",
    "# Rank features by Fisher Score\n",
    "feature_ranks = np.argsort(fisher_scores)[::-1]  # Sort in descending order\n",
    "\n",
    "# Display feature rankings\n",
    "feature_names = X.columns\n",
    "print(\"Feature Ranking based on Fisher Score:\")\n",
    "for rank, index in enumerate(feature_ranks):\n",
    "    print(f\"{rank+1}. {feature_names[index]} - Score: {fisher_scores[index]:.4f}\")\n"
   ]
  },
  {
   "cell_type": "code",
   "execution_count": 4,
   "id": "2672d7f5-ce10-4813-b002-c60b0e360812",
   "metadata": {},
   "outputs": [],
   "source": [
    "# froward selection"
   ]
  },
  {
   "cell_type": "code",
   "execution_count": 5,
   "id": "b950c4e8-9c9c-4cd5-846e-017008b5f726",
   "metadata": {},
   "outputs": [
    {
     "name": "stdout",
     "output_type": "stream",
     "text": [
      "Selected Features: ['sex' 'bmi' 'bp' 's3' 's5']\n"
     ]
    }
   ],
   "source": [
    "import numpy as np\n",
    "import pandas as pd\n",
    "from sklearn.datasets import load_diabetes\n",
    "from sklearn.model_selection import train_test_split\n",
    "from sklearn.linear_model import LinearRegression\n",
    "from sklearn.feature_selection import SequentialFeatureSelector\n",
    "from sklearn.preprocessing import StandardScaler\n",
    "\n",
    "# Load Diabetes Dataset\n",
    "diabetes = load_diabetes(as_frame=True)\n",
    "df = diabetes.frame\n",
    "\n",
    "# Separate features and target variable\n",
    "X = df.drop(columns=['target'])  # Features\n",
    "y = df['target']  # Target\n",
    "\n",
    "# Standardize features\n",
    "scaler = StandardScaler()\n",
    "X_scaled = scaler.fit_transform(X)\n",
    "\n",
    "# Split into training and testing sets\n",
    "X_train, X_test, y_train, y_test = train_test_split(X_scaled, y, test_size=0.2, random_state=42)\n",
    "\n",
    "# Initialize model (Linear Regression)\n",
    "model = LinearRegression()\n",
    "\n",
    "# Perform Forward Selection using SequentialFeatureSelector\n",
    "sfs = SequentialFeatureSelector(model, direction='forward', n_features_to_select=5, cv=5)  # Selecting top 5 features\n",
    "sfs.fit(X_train, y_train)\n",
    "\n",
    "# Get selected feature indices and names\n",
    "selected_features = np.array(X.columns)[sfs.get_support()]\n",
    "\n",
    "# Print the selected features\n",
    "print(\"Selected Features:\", selected_features)\n"
   ]
  },
  {
   "cell_type": "code",
   "execution_count": 6,
   "id": "757379ca-bb7d-4c26-a8a8-7d441f9f522b",
   "metadata": {},
   "outputs": [],
   "source": [
    "#backward elemention"
   ]
  },
  {
   "cell_type": "code",
   "execution_count": 7,
   "id": "d3d212fc-8585-4350-b731-9d85ebeb032f",
   "metadata": {},
   "outputs": [
    {
     "name": "stdout",
     "output_type": "stream",
     "text": [
      "Removing 'age' (p-value: 0.8670)\n",
      "Removing 's3' (p-value: 0.6386)\n",
      "Removing 's6' (p-value: 0.3040)\n",
      "Removing 's4' (p-value: 0.2619)\n",
      "\n",
      "Final Selected Features: ['Intercept', 'sex', 'bmi', 'bp', 's1', 's2', 's5']\n"
     ]
    }
   ],
   "source": [
    "import numpy as np\n",
    "import pandas as pd\n",
    "import statsmodels.api as sm\n",
    "from sklearn.datasets import load_diabetes\n",
    "from sklearn.preprocessing import StandardScaler\n",
    "\n",
    "# Load Diabetes Dataset\n",
    "diabetes = load_diabetes(as_frame=True)\n",
    "df = diabetes.frame\n",
    "\n",
    "# Separate features and target\n",
    "X = df.drop(columns=['target'])  # Features\n",
    "y = df['target']  # Target\n",
    "\n",
    "# Standardize features\n",
    "scaler = StandardScaler()\n",
    "X_scaled = scaler.fit_transform(X)\n",
    "\n",
    "# Add intercept for OLS regression\n",
    "X_scaled = sm.add_constant(X_scaled)  # Adds a bias term (constant) to the model\n",
    "\n",
    "# Convert to DataFrame for column tracking\n",
    "X_df = pd.DataFrame(X_scaled, columns=['Intercept'] + list(X.columns))\n",
    "\n",
    "# Perform Backward Elimination\n",
    "def backward_elimination(X, y, significance_level=0.05):\n",
    "    X_selected = X.copy()\n",
    "    while True:\n",
    "        model = sm.OLS(y, X_selected).fit()  # Fit OLS regression\n",
    "        p_values = model.pvalues  # Get p-values\n",
    "        max_p_value = p_values.max()  # Find the highest p-value\n",
    "        if max_p_value > significance_level:\n",
    "            worst_feature = p_values.idxmax()  # Get feature with highest p-value\n",
    "            print(f\"Removing '{worst_feature}' (p-value: {max_p_value:.4f})\")\n",
    "            X_selected = X_selected.drop(columns=[worst_feature])  # Remove feature\n",
    "        else:\n",
    "            break  # Stop when all p-values are below significance level\n",
    "    return X_selected, model\n",
    "\n",
    "# Apply Backward Elimination\n",
    "X_selected, final_model = backward_elimination(X_df, y)\n",
    "\n",
    "# Show final selected features\n",
    "print(\"\\nFinal Selected Features:\", list(X_selected.columns))\n"
   ]
  },
  {
   "cell_type": "code",
   "execution_count": 8,
   "id": "3a4259d7-2ffb-438a-9993-9ff2dd3b7930",
   "metadata": {},
   "outputs": [],
   "source": [
    "# Exesitive"
   ]
  },
  {
   "cell_type": "code",
   "execution_count": 10,
   "id": "a7e85111-7df5-4842-b530-4191f40b1598",
   "metadata": {},
   "outputs": [
    {
     "name": "stdout",
     "output_type": "stream",
     "text": [
      "Collecting mlxtend\n",
      "  Downloading mlxtend-0.23.4-py3-none-any.whl.metadata (7.3 kB)\n",
      "Requirement already satisfied: scipy>=1.2.1 in c:\\users\\prash\\anaconda1\\lib\\site-packages (from mlxtend) (1.13.1)\n",
      "Requirement already satisfied: numpy>=1.16.2 in c:\\users\\prash\\anaconda1\\lib\\site-packages (from mlxtend) (1.26.4)\n",
      "Requirement already satisfied: pandas>=0.24.2 in c:\\users\\prash\\anaconda1\\lib\\site-packages (from mlxtend) (2.2.2)\n",
      "Requirement already satisfied: scikit-learn>=1.3.1 in c:\\users\\prash\\anaconda1\\lib\\site-packages (from mlxtend) (1.4.2)\n",
      "Requirement already satisfied: matplotlib>=3.0.0 in c:\\users\\prash\\anaconda1\\lib\\site-packages (from mlxtend) (3.8.4)\n",
      "Requirement already satisfied: joblib>=0.13.2 in c:\\users\\prash\\anaconda1\\lib\\site-packages (from mlxtend) (1.4.2)\n",
      "Requirement already satisfied: contourpy>=1.0.1 in c:\\users\\prash\\anaconda1\\lib\\site-packages (from matplotlib>=3.0.0->mlxtend) (1.2.0)\n",
      "Requirement already satisfied: cycler>=0.10 in c:\\users\\prash\\anaconda1\\lib\\site-packages (from matplotlib>=3.0.0->mlxtend) (0.11.0)\n",
      "Requirement already satisfied: fonttools>=4.22.0 in c:\\users\\prash\\anaconda1\\lib\\site-packages (from matplotlib>=3.0.0->mlxtend) (4.51.0)\n",
      "Requirement already satisfied: kiwisolver>=1.3.1 in c:\\users\\prash\\anaconda1\\lib\\site-packages (from matplotlib>=3.0.0->mlxtend) (1.4.4)\n",
      "Requirement already satisfied: packaging>=20.0 in c:\\users\\prash\\anaconda1\\lib\\site-packages (from matplotlib>=3.0.0->mlxtend) (23.2)\n",
      "Requirement already satisfied: pillow>=8 in c:\\users\\prash\\anaconda1\\lib\\site-packages (from matplotlib>=3.0.0->mlxtend) (10.3.0)\n",
      "Requirement already satisfied: pyparsing>=2.3.1 in c:\\users\\prash\\anaconda1\\lib\\site-packages (from matplotlib>=3.0.0->mlxtend) (3.0.9)\n",
      "Requirement already satisfied: python-dateutil>=2.7 in c:\\users\\prash\\anaconda1\\lib\\site-packages (from matplotlib>=3.0.0->mlxtend) (2.9.0.post0)\n",
      "Requirement already satisfied: pytz>=2020.1 in c:\\users\\prash\\anaconda1\\lib\\site-packages (from pandas>=0.24.2->mlxtend) (2024.1)\n",
      "Requirement already satisfied: tzdata>=2022.7 in c:\\users\\prash\\anaconda1\\lib\\site-packages (from pandas>=0.24.2->mlxtend) (2023.3)\n",
      "Requirement already satisfied: threadpoolctl>=2.0.0 in c:\\users\\prash\\anaconda1\\lib\\site-packages (from scikit-learn>=1.3.1->mlxtend) (2.2.0)\n",
      "Requirement already satisfied: six>=1.5 in c:\\users\\prash\\anaconda1\\lib\\site-packages (from python-dateutil>=2.7->matplotlib>=3.0.0->mlxtend) (1.16.0)\n",
      "Downloading mlxtend-0.23.4-py3-none-any.whl (1.4 MB)\n",
      "   ---------------------------------------- 0.0/1.4 MB ? eta -:--:--\n",
      "   ---------------------------------------- 0.0/1.4 MB ? eta -:--:--\n",
      "   -- ------------------------------------- 0.1/1.4 MB 1.3 MB/s eta 0:00:01\n",
      "   --------------- ------------------------ 0.5/1.4 MB 4.7 MB/s eta 0:00:01\n",
      "   ---------------------------------------  1.3/1.4 MB 8.5 MB/s eta 0:00:01\n",
      "   ---------------------------------------- 1.4/1.4 MB 7.8 MB/s eta 0:00:00\n",
      "Installing collected packages: mlxtend\n",
      "Successfully installed mlxtend-0.23.4\n"
     ]
    }
   ],
   "source": [
    "!pip install mlxtend\n"
   ]
  },
  {
   "cell_type": "code",
   "execution_count": 11,
   "id": "2a0954be-e385-4e05-9425-be438e9bc149",
   "metadata": {},
   "outputs": [
    {
     "name": "stderr",
     "output_type": "stream",
     "text": [
      "Features: 637/637"
     ]
    },
    {
     "name": "stdout",
     "output_type": "stream",
     "text": [
      "Best Feature Subset: ['sex', 'bmi', 'bp', 's3', 's5']\n"
     ]
    }
   ],
   "source": [
    "import numpy as np\n",
    "import pandas as pd\n",
    "from sklearn.datasets import load_diabetes\n",
    "from sklearn.model_selection import train_test_split\n",
    "from sklearn.linear_model import LinearRegression\n",
    "from mlxtend.feature_selection import ExhaustiveFeatureSelector\n",
    "from sklearn.preprocessing import StandardScaler\n",
    "\n",
    "# Load Diabetes Dataset\n",
    "diabetes = load_diabetes(as_frame=True)\n",
    "df = diabetes.frame\n",
    "\n",
    "# Separate features and target\n",
    "X = df.drop(columns=['target'])  # Features\n",
    "y = df['target']  # Target variable\n",
    "\n",
    "# Standardize features\n",
    "scaler = StandardScaler()\n",
    "X_scaled = scaler.fit_transform(X)\n",
    "\n",
    "# Split into training and testing sets\n",
    "X_train, X_test, y_train, y_test = train_test_split(X_scaled, y, test_size=0.2, random_state=42)\n",
    "\n",
    "# Initialize model (Linear Regression)\n",
    "model = LinearRegression()\n",
    "\n",
    "# Perform Exhaustive Feature Selection\n",
    "efs = ExhaustiveFeatureSelector(\n",
    "    model,\n",
    "    min_features=1,\n",
    "    max_features=5,  # Can adjust based on computational power\n",
    "    scoring='r2',  # Optimize based on R² score\n",
    "    cv=5  # 5-fold cross-validation\n",
    ")\n",
    "\n",
    "efs.fit(X_train, y_train)\n",
    "\n",
    "# Get best feature subset\n",
    "best_features = list(X.columns[list(efs.best_idx_)])\n",
    "print(\"Best Feature Subset:\", best_features)\n"
   ]
  },
  {
   "cell_type": "code",
   "execution_count": 13,
   "id": "e0c681ae-343a-4bba-b6bd-f741ba4ab19c",
   "metadata": {},
   "outputs": [],
   "source": [
    "#recusive"
   ]
  },
  {
   "cell_type": "code",
   "execution_count": 14,
   "id": "b5bcb4a3-5418-4dcd-8cb3-d2d951676427",
   "metadata": {},
   "outputs": [
    {
     "name": "stdout",
     "output_type": "stream",
     "text": [
      "Selected Features: ['bmi' 'bp' 's1' 's2' 's5']\n"
     ]
    }
   ],
   "source": [
    "import numpy as np\n",
    "import pandas as pd\n",
    "from sklearn.datasets import load_diabetes\n",
    "from sklearn.model_selection import train_test_split\n",
    "from sklearn.linear_model import LinearRegression\n",
    "from sklearn.feature_selection import RFE\n",
    "from sklearn.preprocessing import StandardScaler\n",
    "\n",
    "# Load Diabetes Dataset\n",
    "diabetes = load_diabetes(as_frame=True)\n",
    "df = diabetes.frame\n",
    "\n",
    "# Separate features and target\n",
    "X = df.drop(columns=['target'])  # Features\n",
    "y = df['target']  # Target variable\n",
    "\n",
    "# Standardize features\n",
    "scaler = StandardScaler()\n",
    "X_scaled = scaler.fit_transform(X)\n",
    "\n",
    "# Split into training and testing sets\n",
    "X_train, X_test, y_train, y_test = train_test_split(X_scaled, y, test_size=0.2, random_state=42)\n",
    "\n",
    "# Initialize model (Linear Regression)\n",
    "model = LinearRegression()\n",
    "\n",
    "# Perform Recursive Feature Elimination (RFE)\n",
    "rfe = RFE(estimator=model, n_features_to_select=5)  # Select top 5 features\n",
    "rfe.fit(X_train, y_train)\n",
    "\n",
    "# Get selected feature names\n",
    "selected_features = np.array(X.columns)[rfe.support_]\n",
    "\n",
    "print(\"Selected Features:\", selected_features)\n"
   ]
  },
  {
   "cell_type": "code",
   "execution_count": 16,
   "id": "13281002-123c-4257-8554-00d00df3e218",
   "metadata": {},
   "outputs": [
    {
     "name": "stdout",
     "output_type": "stream",
     "text": [
      "Mean Squared Error: 2884.5531\n",
      "\n",
      "Lasso Coefficients:\n",
      "age: 1.7749\n",
      "sex: -11.3143\n",
      "bmi: 26.0171\n",
      "bp: 16.3601\n",
      "s1: -29.2650\n",
      "s2: 13.2787\n",
      "s3: 0.5514\n",
      "s4: 10.1988\n",
      "s5: 29.5129\n",
      "s6: 2.3587\n",
      "\n",
      "Selected Features with Non-zero Coefficients: Index(['age', 'sex', 'bmi', 'bp', 's1', 's2', 's3', 's4', 's5', 's6'], dtype='object')\n"
     ]
    }
   ],
   "source": [
    "import numpy as np\n",
    "import pandas as pd\n",
    "from sklearn.datasets import load_diabetes\n",
    "from sklearn.model_selection import train_test_split\n",
    "from sklearn.linear_model import Lasso\n",
    "from sklearn.preprocessing import StandardScaler\n",
    "from sklearn.metrics import mean_squared_error\n",
    "\n",
    "# Load Diabetes Dataset\n",
    "diabetes = load_diabetes(as_frame=True)\n",
    "df = diabetes.frame\n",
    "\n",
    "# Separate features and target\n",
    "X = df.drop(columns=['target'])  # Features\n",
    "y = df['target']  # Target variable\n",
    "\n",
    "# Standardize features\n",
    "scaler = StandardScaler()\n",
    "X_scaled = scaler.fit_transform(X)\n",
    "\n",
    "# Split into training and testing sets\n",
    "X_train, X_test, y_train, y_test = train_test_split(X_scaled, y, test_size=0.2, random_state=42)\n",
    "\n",
    "# Initialize Lasso model with regularization parameter alpha\n",
    "lasso = Lasso(alpha=0.1)  # alpha controls the strength of regularization\n",
    "\n",
    "# Fit the model\n",
    "lasso.fit(X_train, y_train)\n",
    "\n",
    "# Predictions\n",
    "y_pred = lasso.predict(X_test)\n",
    "\n",
    "# Evaluate model performance\n",
    "mse = mean_squared_error(y_test, y_pred)\n",
    "print(f\"Mean Squared Error: {mse:.4f}\")\n",
    "\n",
    "# Display coefficients\n",
    "print(\"\\nLasso Coefficients:\")\n",
    "for feature, coef in zip(X.columns, lasso.coef_):\n",
    "    print(f\"{feature}: {coef:.4f}\")\n",
    "\n",
    "# Show the selected features (coefficients are non-zero)\n",
    "selected_features = X.columns[lasso.coef_ != 0]\n",
    "print(\"\\nSelected Features with Non-zero Coefficients:\", selected_features)\n"
   ]
  },
  {
   "cell_type": "code",
   "execution_count": 17,
   "id": "f2bb285d-d42f-41e8-b6e9-a83d6c517066",
   "metadata": {},
   "outputs": [
    {
     "name": "stdout",
     "output_type": "stream",
     "text": [
      "Mean Squared Error: 2963.0138\n",
      "\n",
      "Feature Importance (Random Forest):\n",
      "  Feature  Importance\n",
      "2     bmi    0.355469\n",
      "8      s5    0.230957\n",
      "3      bp    0.088408\n",
      "9      s6    0.071329\n",
      "0     age    0.058642\n",
      "5      s2    0.057227\n",
      "4      s1    0.052784\n",
      "6      s3    0.051339\n",
      "7      s4    0.024213\n",
      "1     sex    0.009633\n"
     ]
    },
    {
     "data": {
      "image/png": "[encoded data removed]",
      "text/plain": [
       "<Figure size 1000x600 with 1 Axes>"
      ]
     },
     "metadata": {},
     "output_type": "display_data"
    }
   ],
   "source": [
    "import numpy as np\n",
    "import pandas as pd\n",
    "from sklearn.datasets import load_diabetes\n",
    "from sklearn.model_selection import train_test_split\n",
    "from sklearn.ensemble import RandomForestRegressor\n",
    "from sklearn.preprocessing import StandardScaler\n",
    "import matplotlib.pyplot as plt\n",
    "\n",
    "# Load Diabetes Dataset\n",
    "diabetes = load_diabetes(as_frame=True)\n",
    "df = diabetes.frame\n",
    "\n",
    "# Separate features and target\n",
    "X = df.drop(columns=['target'])  # Features\n",
    "y = df['target']  # Target variable\n",
    "\n",
    "# Standardize features\n",
    "scaler = StandardScaler()\n",
    "X_scaled = scaler.fit_transform(X)\n",
    "\n",
    "# Split into training and testing sets\n",
    "X_train, X_test, y_train, y_test = train_test_split(X_scaled, y, test_size=0.2, random_state=42)\n",
    "\n",
    "# Initialize Random Forest Regressor\n",
    "rf = RandomForestRegressor(n_estimators=100, random_state=42)\n",
    "\n",
    "# Train the model\n",
    "rf.fit(X_train, y_train)\n",
    "\n",
    "# Predict on the test set\n",
    "y_pred = rf.predict(X_test)\n",
    "\n",
    "# Evaluate the model\n",
    "from sklearn.metrics import mean_squared_error\n",
    "mse = mean_squared_error(y_test, y_pred)\n",
    "print(f\"Mean Squared Error: {mse:.4f}\")\n",
    "\n",
    "# Feature Importance\n",
    "feature_importance = rf.feature_importances_\n",
    "\n",
    "# Create a DataFrame to view feature importance\n",
    "importance_df = pd.DataFrame({\n",
    "    'Feature': X.columns,\n",
    "    'Importance': feature_importance\n",
    "})\n",
    "\n",
    "# Sort by importance\n",
    "importance_df = importance_df.sort_values(by='Importance', ascending=False)\n",
    "\n",
    "# Print feature importance\n",
    "print(\"\\nFeature Importance (Random Forest):\")\n",
    "print(importance_df)\n",
    "\n",
    "# Plot feature importance\n",
    "plt.figure(figsize=(10, 6))\n",
    "plt.barh(importance_df['Feature'], importance_df['Importance'])\n",
    "plt.xlabel('Importance')\n",
    "plt.title('Feature Importance using Random Forest')\n",
    "plt.show()\n"
   ]
  },
  {
   "cell_type": "code",
   "execution_count": null,
   "id": "5d148288-04c8-473d-b21d-f550c66a2f3d",
   "metadata": {},
   "outputs": [],
   "source": []
  }
 ],
 "metadata": {
  "kernelspec": {
   "display_name": "Python 3 (ipykernel)",
   "language": "python",
   "name": "python3"
  },
  "language_info": {
   "codemirror_mode": {
    "name": "ipython",
    "version": 3
   },
   "file_extension": ".py",
   "mimetype": "text/x-python",
   "name": "python",
   "nbconvert_exporter": "python",
   "pygments_lexer": "ipython3",
   "version": "3.12.4"
  }
 },
 "nbformat": 4,
 "nbformat_minor": 5
}
